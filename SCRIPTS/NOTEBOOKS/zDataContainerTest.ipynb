{
 "cells": [
  {
   "cell_type": "code",
   "execution_count": 1,
   "id": "dc441db4-162f-4faf-860c-f78cf0749e3e",
   "metadata": {},
   "outputs": [],
   "source": [
    "import numpy as np\n",
    "from pytreegrav import ConstructTree, ComputeMoments, NearestImage, DensityCorrFunc, VelocityCorrFunc, PotentialTarget, Potential\n",
    "\n",
    "from galexquared.loaders import ARTI_loader\n",
    "from galexquared.data_container import DataContainer"
   ]
  },
  {
   "cell_type": "code",
   "execution_count": 2,
   "id": "157cbc54-9284-4a74-844e-1d3b293ff027",
   "metadata": {},
   "outputs": [
    {
     "name": "stderr",
     "output_type": "stream",
     "text": [
      "yt : [INFO     ] 2025-02-10 14:24:03,334 discovered particle_header:/media/asier/EXTERNAL_USBA/Cosmo_v18/PMcrd_02653.DAT\n",
      "yt : [INFO     ] 2025-02-10 14:24:03,335 discovered particle_data:/media/asier/EXTERNAL_USBA/Cosmo_v18/PMcrs0_02653.DAT\n",
      "yt : [INFO     ] 2025-02-10 14:24:03,335 discovered particle_stars:/media/asier/EXTERNAL_USBA/Cosmo_v18/stars_02653.dat\n",
      "yt : [INFO     ] 2025-02-10 14:24:03,338 Using root level of 14\n",
      "yt : [INFO     ] 2025-02-10 14:24:03,339 Discovered 7 species of particles\n",
      "yt : [INFO     ] 2025-02-10 14:24:03,339 Particle populations:  13330288   1432362    598765    314898    206550   2064487    599075 \n",
      "yt : [INFO     ] 2025-02-10 14:24:03,360 Max level is 12\n",
      "yt : [INFO     ] 2025-02-10 14:24:03,388 Parameters: current_time              = 2.5019317675387915 Gyr\n",
      "yt : [INFO     ] 2025-02-10 14:24:03,388 Parameters: domain_dimensions         = [128 128 128]\n",
      "yt : [INFO     ] 2025-02-10 14:24:03,388 Parameters: domain_left_edge          = [0. 0. 0.]\n",
      "yt : [INFO     ] 2025-02-10 14:24:03,388 Parameters: domain_right_edge         = [1. 1. 1.]\n",
      "yt : [INFO     ] 2025-02-10 14:24:03,388 Parameters: cosmological_simulation   = True\n",
      "yt : [INFO     ] 2025-02-10 14:24:03,388 Parameters: current_redshift          = 2.690667243896575\n",
      "yt : [INFO     ] 2025-02-10 14:24:03,389 Parameters: omega_lambda              = 0.7279999852180481\n",
      "yt : [INFO     ] 2025-02-10 14:24:03,389 Parameters: omega_matter              = 0.2720000147819519\n",
      "yt : [INFO     ] 2025-02-10 14:24:03,389 Parameters: omega_radiation           = 0.0\n",
      "yt : [INFO     ] 2025-02-10 14:24:03,389 Parameters: hubble_constant           = 0.7020000219345093\n"
     ]
    }
   ],
   "source": [
    "ds = ARTI_loader(\"/media/asier/EXTERNAL_USBA/Cosmo_v18/10MpcBox_csf512_02653.d\")"
   ]
  },
  {
   "cell_type": "code",
   "execution_count": 3,
   "id": "c0b23a00-c26d-41c6-a2d9-d3f7201496dd",
   "metadata": {},
   "outputs": [],
   "source": [
    "ad = ds.all_data()"
   ]
  },
  {
   "cell_type": "code",
   "execution_count": 4,
   "id": "ce0d0af3-3330-46db-91cb-cb2d02e49410",
   "metadata": {},
   "outputs": [],
   "source": [
    "pids = np.load(\"../selected_halos_ART/subtree_213/Particles_213.0_205.npy\")"
   ]
  },
  {
   "cell_type": "code",
   "execution_count": 5,
   "id": "60d8cca7-884a-4c04-bd11-aa0cdb461787",
   "metadata": {},
   "outputs": [],
   "source": [
    "stars = DataContainer(ad, \"stars\", particle_ids=pids)"
   ]
  },
  {
   "cell_type": "code",
   "execution_count": 6,
   "id": "a79a98fc-ab32-422a-bb03-c2e672a46720",
   "metadata": {},
   "outputs": [
    {
     "data": {
      "text/plain": [
       "False"
      ]
     },
     "execution_count": 6,
     "metadata": {},
     "output_type": "execute_result"
    }
   ],
   "source": [
    "stars.empty()"
   ]
  },
  {
   "cell_type": "code",
   "execution_count": 7,
   "id": "c1b93d81-abc9-4875-8a8e-57cc438624c3",
   "metadata": {},
   "outputs": [
    {
     "data": {
      "text/plain": [
       "unyt_quantity(6.25071169e+08, 'Msun')"
      ]
     },
     "execution_count": 7,
     "metadata": {},
     "output_type": "execute_result"
    }
   ],
   "source": [
    "stars[\"mass\"].sum()"
   ]
  },
  {
   "cell_type": "code",
   "execution_count": 8,
   "id": "48e76def-6bfc-4534-b553-89bdf129295a",
   "metadata": {},
   "outputs": [
    {
     "data": {
      "text/plain": [
       "(unyt_array([11362.7407584 , 12158.07574894, 11665.56540463], 'kpc'),\n",
       " unyt_array([-75.80608462, 277.41255975, 182.04848827], 'km/s'))"
      ]
     },
     "execution_count": 8,
     "metadata": {},
     "output_type": "execute_result"
    }
   ],
   "source": [
    "stars.refined_center6d(nmin=40)"
   ]
  },
  {
   "cell_type": "code",
   "execution_count": 10,
   "id": "33b60441-2add-44db-8cce-9097f94f16be",
   "metadata": {},
   "outputs": [
    {
     "data": {
      "text/plain": [
       "unyt_array([1.36103951, 1.44796852, 1.36003467], 'kpc')"
      ]
     },
     "execution_count": 10,
     "metadata": {},
     "output_type": "execute_result"
    }
   ],
   "source": [
    "stars.half_mass_radius(project=True, lines_of_sight=[[1,0,0], [0,1,0], [0,0,1]])"
   ]
  },
  {
   "cell_type": "code",
   "execution_count": 36,
   "id": "12a832e2-f59a-4754-abea-e22471973adc",
   "metadata": {},
   "outputs": [
    {
     "name": "stderr",
     "output_type": "stream",
     "text": [
      "yt : [WARNING  ] 2025-02-10 11:47:21,881 The darkmatter_source particle filter already exists. Overriding.\n"
     ]
    }
   ],
   "source": [
    "dm = DataContainer(ad, \"darkmatter\", particle_ids=pids)"
   ]
  },
  {
   "cell_type": "code",
   "execution_count": 37,
   "id": "a897aae7-701b-43c2-9124-dc624334a40d",
   "metadata": {},
   "outputs": [
    {
     "data": {
      "text/plain": [
       "False"
      ]
     },
     "execution_count": 37,
     "metadata": {},
     "output_type": "execute_result"
    }
   ],
   "source": [
    "dm.empty()"
   ]
  },
  {
   "cell_type": "code",
   "execution_count": 38,
   "id": "dc50c2bb-e6db-4a12-8731-c96ce69bab12",
   "metadata": {},
   "outputs": [
    {
     "data": {
      "text/plain": [
       "unyt_quantity(2.04848021e+10, 'Msun')"
      ]
     },
     "execution_count": 38,
     "metadata": {},
     "output_type": "execute_result"
    }
   ],
   "source": [
    "dm[\"mass\"].sum()"
   ]
  },
  {
   "cell_type": "code",
   "execution_count": 15,
   "id": "b537ae23-de5c-41dc-aad6-0d678899ff06",
   "metadata": {},
   "outputs": [
    {
     "data": {
      "text/plain": [
       "5.3440927636913"
      ]
     },
     "execution_count": 15,
     "metadata": {},
     "output_type": "execute_result"
    }
   ],
   "source": [
    "534409276.36913/1E8"
   ]
  },
  {
   "cell_type": "code",
   "execution_count": 18,
   "id": "f83ef4c9-c443-4b60-922f-bc7176272417",
   "metadata": {},
   "outputs": [
    {
     "data": {
      "text/plain": [
       "3.1752136704"
      ]
     },
     "execution_count": 18,
     "metadata": {},
     "output_type": "execute_result"
    }
   ],
   "source": [
    "31752136704/1E10"
   ]
  },
  {
   "cell_type": "code",
   "execution_count": null,
   "id": "b7eb52d2-095c-411d-862f-9e5e5393e47e",
   "metadata": {},
   "outputs": [],
   "source": []
  },
  {
   "cell_type": "code",
   "execution_count": null,
   "id": "c71cd2b7-008f-4fdd-8662-ff486a48c4ed",
   "metadata": {},
   "outputs": [],
   "source": []
  },
  {
   "cell_type": "code",
   "execution_count": null,
   "id": "e3f74c84-d775-485a-aa16-6724b559f3ec",
   "metadata": {},
   "outputs": [],
   "source": []
  },
  {
   "cell_type": "code",
   "execution_count": 3,
   "id": "ed8fa1af-c4c7-4b6f-970f-f32fd839d506",
   "metadata": {},
   "outputs": [],
   "source": [
    "sp = ds.sphere(ds.domain_center, (5, \"Mpc\"))"
   ]
  },
  {
   "cell_type": "code",
   "execution_count": 4,
   "id": "08555670-9d4e-465f-a568-393170fc1af3",
   "metadata": {},
   "outputs": [],
   "source": [
    "stars = DataContainer(sp, \"stars\")"
   ]
  },
  {
   "cell_type": "code",
   "execution_count": 5,
   "id": "df51e133-8a6f-4cc0-89f9-43952185ca3f",
   "metadata": {},
   "outputs": [
    {
     "data": {
      "text/plain": [
       "{'r': unyt_array([  71.25623126,  213.67566712,  356.09510299,  498.51453885,\n",
       "         640.93397471,  783.35341057,  925.77284644, 1068.1922823 ,\n",
       "        1210.61171816, 1353.03115402], 'kpc'),\n",
       " 'rho': unyt_array([5.16644957e+00, 0.00000000e+00, 7.16041285e-04, 0.00000000e+00,\n",
       "        4.57741889e-02, 0.00000000e+00, 0.00000000e+00, 2.23864389e-03,\n",
       "        0.00000000e+00, 3.08181907e-03], 'Msun/kpc**3'),\n",
       " 'e_rho': unyt_array([0.08025689, 0.        , 0.00025316, 0.        , 0.00097613,\n",
       "        0.        , 0.        , 0.00013012, 0.        , 0.00011632], 'Msun/kpc**3'),\n",
       " 'm_enc': unyt_array([62576898.1707404 ,        0.        ,   164664.51788951,\n",
       "               0.        , 33791670.6586704 ,        0.        ,\n",
       "               0.        ,  4578317.19360797,        0.        ,\n",
       "        10106543.61491844], 'Msun'),\n",
       " 'center': unyt_array([37070.02161143, 42836.04965534, 39817.18655672], 'kpc'),\n",
       " 'dims': 3,\n",
       " 'bins': None}"
      ]
     },
     "execution_count": 5,
     "metadata": {},
     "output_type": "execute_result"
    }
   ],
   "source": [
    "stars.density_profile(kw_center={\"nmin\": 40})"
   ]
  },
  {
   "cell_type": "code",
   "execution_count": null,
   "id": "5048fe6f-67de-4410-961c-bdc3386203dd",
   "metadata": {},
   "outputs": [],
   "source": []
  }
 ],
 "metadata": {
  "kernelspec": {
   "display_name": "Python 3 (ipykernel)",
   "language": "python",
   "name": "python3"
  },
  "language_info": {
   "codemirror_mode": {
    "name": "ipython",
    "version": 3
   },
   "file_extension": ".py",
   "mimetype": "text/x-python",
   "name": "python",
   "nbconvert_exporter": "python",
   "pygments_lexer": "ipython3",
   "version": "3.12.3"
  }
 },
 "nbformat": 4,
 "nbformat_minor": 5
}
