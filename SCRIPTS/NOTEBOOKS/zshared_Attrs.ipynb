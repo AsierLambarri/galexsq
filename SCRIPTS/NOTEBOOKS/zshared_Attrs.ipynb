{
 "cells": [
  {
   "cell_type": "markdown",
   "id": "a3296675-2182-457c-a142-6e06b84f41c0",
   "metadata": {},
   "source": [
    "### Shared Attributes"
   ]
  },
  {
   "cell_type": "code",
   "execution_count": 8,
   "id": "ae023bc5-887e-4930-8094-d446285e4016",
   "metadata": {},
   "outputs": [],
   "source": [
    "import numpy as np\n",
    "from unyt import unyt_array, unyt_quantity"
   ]
  },
  {
   "cell_type": "code",
   "execution_count": 102,
   "id": "28600a46-a3ae-46be-8a7c-3d0d32b7e1c0",
   "metadata": {},
   "outputs": [],
   "source": [
    "class BaseParticleType:\n",
    "    \"\"\"BaseParticleType class that implements common methods and attributes for particle ensembles. These methods and attributes\n",
    "    are accesible for all particle types and hence this class acts as a bridge between stars, darkmatter and gas, allowing \n",
    "    them to access properties of one another. This makes sense, as particles types in cosmological simulations are coupled to\n",
    "    each other.\n",
    "    \n",
    "    It also simplifies the code, as a plethora of common methods are displaced to here.\n",
    "    \"\"\"\n",
    "    _shared_attrs = {\n",
    "        \"darkmatter\": {\"rockstar_center\": None, \"rockstar_vel\": None, \"rvir\": None, \"rs\": None, \"c\": None, 'vmax': None, 'vrms': None},\n",
    "        \"stars\": {\"ML\": None},\n",
    "    }\n",
    "\n",
    "\n",
    "    @classmethod\n",
    "    def format_value(cls, value):\n",
    "        \"\"\"Formats value using unyt if value != None, else returns none\n",
    "        \"\"\"\n",
    "        if value is None:\n",
    "            return None\n",
    "            \n",
    "        if type(value) == tuple:\n",
    "            assert len(value) >= 1 and len(value) <= 2, f\"Tuple must be of the formt (X,)==(X,'dimensionless') or (X,unit). Your provided {value}.\"\n",
    "            if value[0] is None: return None\n",
    "            else: return unyt_array(*value)\n",
    "                \n",
    "        else:\n",
    "            return cls.format_value((value,))\n",
    "\n",
    "    @classmethod\n",
    "    def set_shared_attrs(cls, pt, kwargs):\n",
    "        \"\"\"Set class-level shared attributes for a specific particle type.\n",
    "        \"\"\"\n",
    "        if pt not in cls._shared_attrs:\n",
    "            raise ValueError(f\"Unknown particle type: {pt}\")\n",
    "        \n",
    "        for key, value in kwargs.items():\n",
    "            if key in cls._shared_attrs[pt]:\n",
    "                cls._shared_attrs[pt][key] = value\n",
    "            else:\n",
    "                raise ValueError(f\"Invalid shared attribute '{key}' for type '{pt}'\")\n",
    "\n",
    "        print(cls._shared_attrs)\n",
    "        return None\n",
    "    \n",
    "    @classmethod\n",
    "    def get_shared_attr(cls, pt, key):\n",
    "        \"\"\"Get a specific shared attribute for a particle type.\n",
    "        \"\"\"\n",
    "        if pt not in cls._shared_attrs:\n",
    "            raise ValueError(f\"Unknown particle type: {pt}\")\n",
    "        return cls._shared_attrs[pt].get(key)\n",
    "\n",
    "    @classmethod\n",
    "    def update_shared_attr(cls, pt, key, value):\n",
    "        \"\"\"Update a specific shared attribute for a particle type.\n",
    "        \"\"\"\n",
    "        if (pt in cls._shared_attrs) and (key in cls._shared_attrs[pt]):\n",
    "            cls._shared_attrs[pt][key] = value\n",
    "        else:\n",
    "            raise ValueError(f\"Cannot update: '{key}' not valid for '{pt}'\")\n",
    "\n",
    "    @classmethod\n",
    "    def list_shared_attributes(cls, pt):\n",
    "        \"\"\"List all shared attributes for a given particle type.\"\"\"\n",
    "        return list(cls._shared_attrs.get(pt, {}).keys())"
   ]
  },
  {
   "cell_type": "code",
   "execution_count": 122,
   "id": "7b41b0c1-68f2-466d-b3b9-f4433fc03de4",
   "metadata": {},
   "outputs": [],
   "source": [
    "class pty(BaseParticleType):\n",
    "    def __init__(self, pt, **kwargs):\n",
    "        super().__init__()\n",
    "        self.ptype = pt      \n",
    "        self.units = {\n",
    "            'dimensionless': 'dimensionless',\n",
    "            'mass': \"Msun\",\n",
    "            'time': \"Gyr\",\n",
    "            'length': \"kpc\",\n",
    "            'velocity': \"km/s\",\n",
    "            'comoving': False\n",
    "        }\n",
    "        self.set_shared_attrs(pt, kwargs)\n",
    "\n",
    "\n",
    "\n",
    "\n",
    "\n",
    "    # Dynamically visible properties for darkmatter       \n",
    "    @property\n",
    "    def rvir(self):\n",
    "        if self.ptype == \"darkmatter\":\n",
    "            value = self.get_shared_attr(self.ptype, \"rvir\")\n",
    "            return value if value is None else value.in_units(self.units['length'])\n",
    "        raise AttributeError(\"Attribute 'rvir' is hidden for stars.\")\n",
    "\n",
    "    @rvir.setter\n",
    "    def rvir(self, value):\n",
    "        if self.ptype == \"darkmatter\":\n",
    "            self.update_shared_attr(self.ptype, \"rvir\", value)\n",
    "        else:\n",
    "            raise AttributeError(\"Cannot set 'rvir' for stars.\")\n",
    "\n",
    "    @property\n",
    "    def rs(self):\n",
    "        if self.ptype == \"darkmatter\":\n",
    "            value = self.get_shared_attr(self.ptype, \"rs\")\n",
    "            return value if value is None else value.in_units(self.units['length'])\n",
    "        raise AttributeError(\"Attribute 'rs' is hidden for stars.\")\n",
    "\n",
    "    @rs.setter\n",
    "    def rs(self, value):\n",
    "        if self.ptype == \"darkmatter\":\n",
    "            self.update_shared_attr(self.ptype, \"rs\", value)\n",
    "        else:\n",
    "            raise AttributeError(\"Cannot set 'rs' for stars.\")\n",
    "\n",
    "    @property\n",
    "    def c(self):\n",
    "        if self.ptype == \"darkmatter\":\n",
    "            value = self.get_shared_attr(self.ptype, \"c\")\n",
    "            return value if value is None else value.in_units(self.units['dimensionless'])\n",
    "        raise AttributeError(\"Attribute 'c' is hidden for stars.\")\n",
    "\n",
    "    @c.setter\n",
    "    def c(self, value):\n",
    "        if self.ptype == \"darkmatter\":\n",
    "            self.update_shared_attr(self.ptype, \"c\", value)\n",
    "        else:\n",
    "            raise AttributeError(\"Cannot set 'c' for stars.\")\n",
    "\n",
    "\n",
    "    @property\n",
    "    def rockstar_center(self):\n",
    "        if self.ptype == \"darkmatter\":\n",
    "            value = self.get_shared_attr(self.ptype, \"rockstar_center\")\n",
    "            return value if value is None else value.in_units(self.units['length'])\n",
    "        raise AttributeError(\"Attribute 'rockstar_center' is hidden for stars.\")\n",
    "\n",
    "    @rockstar_center.setter\n",
    "    def rockstar_center(self, value):\n",
    "        if self.ptype == \"darkmatter\":\n",
    "            self.update_shared_attr(self.ptype, \"rockstar_center\", value)\n",
    "        else:\n",
    "            raise AttributeError(\"Cannot set 'rockstar_center' for stars.\")\n",
    "\n",
    "    @property\n",
    "    def rockstar_vel(self):\n",
    "        if self.ptype == \"darkmatter\":\n",
    "            value = self.get_shared_attr(self.ptype, \"rockstar_vel\")\n",
    "            return value if value is None else value.in_units(self.units['velocity'])\n",
    "        raise AttributeError(\"Attribute 'rockstar_vel' is hidden for stars.\")\n",
    "\n",
    "    @rockstar_vel.setter\n",
    "    def rockstar_vel(self, value):\n",
    "        if self.ptype == \"darkmatter\":\n",
    "            self.update_shared_attr(self.ptype, \"rockstar_vel\", value)\n",
    "        else:\n",
    "            raise AttributeError(\"Cannot set 'rockstar_vel' for stars.\")\n",
    "            \n",
    "    # Dynamically visible properties for stars\n",
    "    @property\n",
    "    def ML(self):\n",
    "        if self.ptype == \"stars\":\n",
    "            value = self.get_shared_attr(self.ptype, \"ML\")\n",
    "            return value if value is None else value.in_units(\"Msun/Lsun\")\n",
    "        raise AttributeError(\"Attribute 'ML' is hidden for dark matter.\")\n",
    "\n",
    "    @ML.setter\n",
    "    def ML(self, value):\n",
    "        if self.ptype == \"stars\":\n",
    "            self.update_shared_attr(self.ptype, \"ML\", value)\n",
    "        else:\n",
    "            raise AttributeError(\"Cannot set 'ML' for dark matter.\")\n",
    "\n",
    "    # \"Hidden\" properties for the partner instance\n",
    "    @property\n",
    "    def _rvir(self):\n",
    "        if self.ptype == \"stars\":\n",
    "            value = self.get_shared_attr(\"darkmatter\", \"rvir\")\n",
    "            return value if value is None else value.in_units(self.units['length'])\n",
    "        raise AttributeError(\"Attribute '_rvir' is not accessible for dark matter.\")\n",
    "\n",
    "    @property\n",
    "    def _rs(self):\n",
    "        if self.ptype == \"stars\":\n",
    "            value = self.get_shared_attr(\"darkmatter\", \"rs\")\n",
    "            return value if value is None else value.in_units(self.units['length'])\n",
    "        raise AttributeError(\"Attribute '_rs' is not accessible for dark matter.\")\n",
    "\n",
    "    @property\n",
    "    def _c(self):\n",
    "        if self.ptype == \"stars\":\n",
    "            value = self.get_shared_attr(\"darkmatter\", \"c\")\n",
    "            return value if value is None else value.in_units(self.units['dimensionless'])\n",
    "        raise AttributeError(\"Attribute '_c' is not accessible for dark matter.\")\n",
    "\n",
    "    @property\n",
    "    def _rockstar_center(self):\n",
    "        if self.ptype == \"stars\":\n",
    "            value = self.get_shared_attr(\"darkmatter\", \"rockstar_center\")\n",
    "            return value if value is None else value.in_units(self.units['length'])\n",
    "        raise AttributeError(\"Attribute '_rockstar_center' is not accessible for dark matter.\")\n",
    "\n",
    "    @property\n",
    "    def _rockstar_vel(self):\n",
    "        if self.ptype == \"stars\":\n",
    "            value = self.get_shared_attr(\"darkmatter\", \"rockstar_vel\")\n",
    "            return value if value is None else value.in_units(self.units['velocity'])\n",
    "        raise AttributeError(\"Attribute '_rockstar_vel' is not accessible for dark matter.\")\n",
    "\n",
    "    @property\n",
    "    def _ML(self):\n",
    "        if self.ptype == \"darkmatter\":\n",
    "            value = self.get_shared_attr(\"stars\", \"ML\")\n",
    "            return value if value is None else value.in_units(\"Msun/Lsun\")\n",
    "        raise AttributeError(\"Attribute '_ML' is not accessible for stars.\")\n"
   ]
  },
  {
   "cell_type": "code",
   "execution_count": 123,
   "id": "50d8ccd8-e65b-413a-bd1b-44723668d94b",
   "metadata": {},
   "outputs": [
    {
     "name": "stdout",
     "output_type": "stream",
     "text": [
      "{'darkmatter': {'rockstar_center': None, 'rockstar_vel': None, 'rvir': (30, 'kpc'), 'rs': unyt_quantity(4, 'kpc'), 'c': None, 'vmax': (50, 'km/s'), 'vrms': None}, 'stars': {'ML': (3, 'Msun/Lsun')}}\n"
     ]
    }
   ],
   "source": [
    "a = pty(\"darkmatter\", **{\n",
    "                     'rvir': (30, 'kpc'),\n",
    "                     'rs': unyt_quantity(4, 'kpc'),\n",
    "                     'vmax': (50,'km/s')\n",
    "                 })"
   ]
  },
  {
   "cell_type": "code",
   "execution_count": 125,
   "id": "94e3aa81-18d9-4449-a27d-01c2ba0ad4fc",
   "metadata": {},
   "outputs": [
    {
     "ename": "AttributeError",
     "evalue": "'tuple' object has no attribute 'in_units'",
     "output_type": "error",
     "traceback": [
      "\u001b[0;31m---------------------------------------------------------------------------\u001b[0m",
      "\u001b[0;31mAttributeError\u001b[0m                            Traceback (most recent call last)",
      "Cell \u001b[0;32mIn[125], line 1\u001b[0m\n\u001b[0;32m----> 1\u001b[0m \u001b[43ma\u001b[49m\u001b[38;5;241;43m.\u001b[39;49m\u001b[43mrvir\u001b[49m\n",
      "Cell \u001b[0;32mIn[122], line 24\u001b[0m, in \u001b[0;36mpty.rvir\u001b[0;34m(self)\u001b[0m\n\u001b[1;32m     22\u001b[0m \u001b[38;5;28;01mif\u001b[39;00m \u001b[38;5;28mself\u001b[39m\u001b[38;5;241m.\u001b[39mptype \u001b[38;5;241m==\u001b[39m \u001b[38;5;124m\"\u001b[39m\u001b[38;5;124mdarkmatter\u001b[39m\u001b[38;5;124m\"\u001b[39m:\n\u001b[1;32m     23\u001b[0m     value \u001b[38;5;241m=\u001b[39m \u001b[38;5;28mself\u001b[39m\u001b[38;5;241m.\u001b[39mget_shared_attr(\u001b[38;5;28mself\u001b[39m\u001b[38;5;241m.\u001b[39mptype, \u001b[38;5;124m\"\u001b[39m\u001b[38;5;124mrvir\u001b[39m\u001b[38;5;124m\"\u001b[39m)\n\u001b[0;32m---> 24\u001b[0m     \u001b[38;5;28;01mreturn\u001b[39;00m value \u001b[38;5;28;01mif\u001b[39;00m value \u001b[38;5;129;01mis\u001b[39;00m \u001b[38;5;28;01mNone\u001b[39;00m \u001b[38;5;28;01melse\u001b[39;00m \u001b[43mvalue\u001b[49m\u001b[38;5;241;43m.\u001b[39;49m\u001b[43min_units\u001b[49m(\u001b[38;5;28mself\u001b[39m\u001b[38;5;241m.\u001b[39munits[\u001b[38;5;124m'\u001b[39m\u001b[38;5;124mlength\u001b[39m\u001b[38;5;124m'\u001b[39m])\n\u001b[1;32m     25\u001b[0m \u001b[38;5;28;01mraise\u001b[39;00m \u001b[38;5;167;01mAttributeError\u001b[39;00m(\u001b[38;5;124m\"\u001b[39m\u001b[38;5;124mAttribute \u001b[39m\u001b[38;5;124m'\u001b[39m\u001b[38;5;124mrvir\u001b[39m\u001b[38;5;124m'\u001b[39m\u001b[38;5;124m is hidden for stars.\u001b[39m\u001b[38;5;124m\"\u001b[39m)\n",
      "\u001b[0;31mAttributeError\u001b[0m: 'tuple' object has no attribute 'in_units'"
     ]
    }
   ],
   "source": [
    "a.rvir"
   ]
  },
  {
   "cell_type": "code",
   "execution_count": 103,
   "id": "2662dd03-a82a-444f-9457-eab2617f0165",
   "metadata": {},
   "outputs": [
    {
     "data": {
      "text/plain": [
       "{'darkmatter': {'rockstar_center': None,\n",
       "  'rockstar_vel': None,\n",
       "  'rvir': None,\n",
       "  'rs': None,\n",
       "  'c': None,\n",
       "  'vmax': None,\n",
       "  'vrms': None},\n",
       " 'stars': {'ML': None}}"
      ]
     },
     "execution_count": 103,
     "metadata": {},
     "output_type": "execute_result"
    }
   ],
   "source": [
    "BaseParticleType._shared_attrs"
   ]
  },
  {
   "cell_type": "code",
   "execution_count": 104,
   "id": "d51bb55a-8efd-487c-9572-d62933e28f9b",
   "metadata": {},
   "outputs": [
    {
     "name": "stdout",
     "output_type": "stream",
     "text": [
      "{'darkmatter': {'rockstar_center': None, 'rockstar_vel': None, 'rvir': None, 'rs': None, 'c': None, 'vmax': None, 'vrms': None}, 'stars': {'ML': (3, 'Msun/Lsun')}}\n"
     ]
    }
   ],
   "source": [
    "BaseParticleType.set_shared_attrs(\"stars\", \n",
    "                                {'ML': (3, 'Msun/Lsun')\n",
    "                                }\n",
    "                                )"
   ]
  },
  {
   "cell_type": "code",
   "execution_count": 105,
   "id": "10232589-6b24-4b92-acac-1ac7ef33e953",
   "metadata": {},
   "outputs": [
    {
     "data": {
      "text/plain": [
       "{'darkmatter': {'rockstar_center': None,\n",
       "  'rockstar_vel': None,\n",
       "  'rvir': None,\n",
       "  'rs': None,\n",
       "  'c': None,\n",
       "  'vmax': None,\n",
       "  'vrms': None},\n",
       " 'stars': {'ML': (3, 'Msun/Lsun')}}"
      ]
     },
     "execution_count": 105,
     "metadata": {},
     "output_type": "execute_result"
    }
   ],
   "source": [
    "BaseParticleType._shared_attrs"
   ]
  },
  {
   "cell_type": "code",
   "execution_count": 106,
   "id": "87d6a364-6e7c-443d-8c6b-2d9fbd8a07de",
   "metadata": {},
   "outputs": [
    {
     "name": "stdout",
     "output_type": "stream",
     "text": [
      "{'darkmatter': {'rockstar_center': None, 'rockstar_vel': None, 'rvir': (30, 'kpc'), 'rs': unyt_quantity(4, 'kpc'), 'c': None, 'vmax': (50, 'km/s'), 'vrms': None}, 'stars': {'ML': (3, 'Msun/Lsun')}}\n"
     ]
    }
   ],
   "source": [
    "BaseParticleType.set_shared_attrs(\"darkmatter\", \n",
    "                                {\n",
    "                     'rvir': (30, 'kpc'),\n",
    "                     'rs': unyt_quantity(4, 'kpc'),\n",
    "                     'vmax': (50,'km/s')\n",
    "                 }\n",
    "                                )"
   ]
  },
  {
   "cell_type": "code",
   "execution_count": 107,
   "id": "93180275-d379-414e-a909-9b6d5dfac683",
   "metadata": {},
   "outputs": [
    {
     "data": {
      "text/plain": [
       "{'darkmatter': {'rockstar_center': None,\n",
       "  'rockstar_vel': None,\n",
       "  'rvir': (30, 'kpc'),\n",
       "  'rs': unyt_quantity(4, 'kpc'),\n",
       "  'c': None,\n",
       "  'vmax': (50, 'km/s'),\n",
       "  'vrms': None},\n",
       " 'stars': {'ML': (3, 'Msun/Lsun')}}"
      ]
     },
     "execution_count": 107,
     "metadata": {},
     "output_type": "execute_result"
    }
   ],
   "source": [
    "BaseParticleType._shared_attrs"
   ]
  },
  {
   "cell_type": "code",
   "execution_count": 108,
   "id": "b07d10b7-79c2-4e1f-b025-0d48b6e484af",
   "metadata": {},
   "outputs": [
    {
     "data": {
      "text/plain": [
       "(3, 'Msun/Lsun')"
      ]
     },
     "execution_count": 108,
     "metadata": {},
     "output_type": "execute_result"
    }
   ],
   "source": [
    "BaseParticleType.get_shared_attr(\"stars\", \"ML\")"
   ]
  },
  {
   "cell_type": "code",
   "execution_count": 109,
   "id": "cb02fe8b-25e3-4e0e-896f-dbb4725abec5",
   "metadata": {},
   "outputs": [
    {
     "data": {
      "text/plain": [
       "['rockstar_center', 'rockstar_vel', 'rvir', 'rs', 'c', 'vmax', 'vrms']"
      ]
     },
     "execution_count": 109,
     "metadata": {},
     "output_type": "execute_result"
    }
   ],
   "source": [
    "BaseParticleType.list_shared_attributes(\"darkmatter\")"
   ]
  },
  {
   "cell_type": "code",
   "execution_count": null,
   "id": "d13ffed0-df2c-4872-9bec-de89b41c09fc",
   "metadata": {},
   "outputs": [],
   "source": []
  },
  {
   "cell_type": "code",
   "execution_count": null,
   "id": "9d73cbd9-edd8-491b-9fec-5b5f7ad63390",
   "metadata": {},
   "outputs": [],
   "source": []
  }
 ],
 "metadata": {
  "kernelspec": {
   "display_name": "Python 3 (ipykernel)",
   "language": "python",
   "name": "python3"
  },
  "language_info": {
   "codemirror_mode": {
    "name": "ipython",
    "version": 3
   },
   "file_extension": ".py",
   "mimetype": "text/x-python",
   "name": "python",
   "nbconvert_exporter": "python",
   "pygments_lexer": "ipython3",
   "version": "3.12.3"
  }
 },
 "nbformat": 4,
 "nbformat_minor": 5
}
